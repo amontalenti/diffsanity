{
 "cells": [
  {
   "cell_type": "code",
   "execution_count": 1,
   "id": "4f79add0-61c8-4847-9e70-65d743268a4e",
   "metadata": {},
   "outputs": [
    {
     "name": "stdout",
     "output_type": "stream",
     "text": [
      "/IU0C5090.CR2 | 57fb2aba534ed37013bd54ac2277a18c | ('2023-07-29T12:39:22', 'IU0C5090.CR2', '31417383')\n",
      "/IU0C5090.JPG | fbfae0fb1fcfff2616138f1f3be4b604 | ('2023-07-29T12:39:24', 'IU0C5090.JPG', '7249095')\n",
      "/IU0C5091.CR2 | 20b388dd349bf471d5d4fab6d1e69dff | ('2023-08-10T02:56:58', 'IU0C5091.CR2', '28740029')\n",
      "/IU0C5091.JPG | d865a5863daf8c0acb65de4ef814d5bd | ('2023-08-10T02:57:00', 'IU0C5091.JPG', '6573379')\n",
      "/IU0C5092.CR2 | dca590898ebb6a33faefc37c5aca8b1a | ('2023-08-10T02:57:00', 'IU0C5092.CR2', '28988891')\n",
      "/IU0C5092.JPG | 83a83effa353bb9e53817b57bd5ccbb6 | ('2023-08-10T02:57:02', 'IU0C5092.JPG', '6708544')\n",
      "/IU0C5093.CR2 | de6177f4427bca6244e36939de5d869e | ('2023-08-10T02:57:04', 'IU0C5093.CR2', '29229559')\n",
      "/IU0C5093.JPG | 7e640fd687853e2c66cdc274466042b3 | ('2023-08-10T02:57:04', 'IU0C5093.JPG', '6759960')\n",
      "/IU0C5094.CR2 | 2ea442fd190a0de1331456a06d2c4c79 | ('2023-08-10T02:57:10', 'IU0C5094.CR2', '27983304')\n",
      "/IU0C5094.JPG | 9918a3cf405b18b583c7a10a03cf5304 | ('2023-08-10T02:57:12', 'IU0C5094.JPG', '5941315')\n"
     ]
    }
   ],
   "source": [
    "!head -n10 hashes-5d3-cf-new.txt"
   ]
  },
  {
   "cell_type": "code",
   "execution_count": 2,
   "id": "819fa5d8-db0d-4925-8b7b-adb9c9c18593",
   "metadata": {},
   "outputs": [],
   "source": [
    "with open(\"cachefile\", \"w\") as cachefile:\n",
    "    lines = [line.strip() for line in open(\"hashes-5d3-cf-new.txt\", \"r\")]\n",
    "    for i, line in enumerate(lines):\n",
    "        file_path, md5hash, primary_key_expr = line.split(\" | \")\n",
    "        primary_key = eval(primary_key_expr)\n",
    "        key_date, key_filename, key_bytesize = primary_key\n",
    "        key_bytesize = str(key_bytesize)\n",
    "        \n",
    "        # debug output:\n",
    "        #print(f\"{file_path[:70]:70} {md5hash[:8]:8} || {key_date[:10]:10} {key_filename[:20]:20} {key_bytesize:15}\")\n",
    "        \n",
    "        # file format:\n",
    "        #       turn this path ......... into an mtime,   filename,       and bytesize ... 3-tuple\n",
    "        #print(f\"{file_path} | {md5hash} | {key_date} | {key_filename} | {key_bytesize}\")\n",
    "\n",
    "        # create cachefile\n",
    "        print(f\"{key_date} | {key_filename} | {key_bytesize} | {md5hash}\", file=cachefile)\n",
    "        #                     ^^^^^^^^^ if that 3-tuple exists in cachefile, use the pre-computed md5hash\n",
    "        #        ^^^^^^^^^ otherwise, apply the md5 algorithm against this filepath and add hash to cachefile\n",
    "        #if i > 100:\n",
    "        #    break"
   ]
  },
  {
   "cell_type": "code",
   "execution_count": 3,
   "id": "e6f04a2f-fb47-4712-a439-469e2db4df4e",
   "metadata": {},
   "outputs": [
    {
     "name": "stdout",
     "output_type": "stream",
     "text": [
      "2023-07-29T12:39:22 | IU0C5090.CR2 | 31417383 | 57fb2aba534ed37013bd54ac2277a18c\n",
      "2023-07-29T12:39:24 | IU0C5090.JPG | 7249095 | fbfae0fb1fcfff2616138f1f3be4b604\n",
      "2023-08-10T02:56:58 | IU0C5091.CR2 | 28740029 | 20b388dd349bf471d5d4fab6d1e69dff\n",
      "2023-08-10T02:57:00 | IU0C5091.JPG | 6573379 | d865a5863daf8c0acb65de4ef814d5bd\n",
      "2023-08-10T02:57:00 | IU0C5092.CR2 | 28988891 | dca590898ebb6a33faefc37c5aca8b1a\n",
      "2023-08-10T02:57:02 | IU0C5092.JPG | 6708544 | 83a83effa353bb9e53817b57bd5ccbb6\n",
      "2023-08-10T02:57:04 | IU0C5093.CR2 | 29229559 | de6177f4427bca6244e36939de5d869e\n",
      "2023-08-10T02:57:04 | IU0C5093.JPG | 6759960 | 7e640fd687853e2c66cdc274466042b3\n",
      "2023-08-10T02:57:10 | IU0C5094.CR2 | 27983304 | 2ea442fd190a0de1331456a06d2c4c79\n",
      "2023-08-10T02:57:12 | IU0C5094.JPG | 5941315 | 9918a3cf405b18b583c7a10a03cf5304\n"
     ]
    }
   ],
   "source": [
    "!head -n10 cachefile"
   ]
  },
  {
   "cell_type": "code",
   "execution_count": null,
   "id": "0b78c35d-f49a-4c33-bbf6-c6bda1c9159e",
   "metadata": {},
   "outputs": [],
   "source": []
  }
 ],
 "metadata": {
  "kernelspec": {
   "display_name": "Python 3 (ipykernel)",
   "language": "python",
   "name": "python3"
  },
  "language_info": {
   "codemirror_mode": {
    "name": "ipython",
    "version": 3
   },
   "file_extension": ".py",
   "mimetype": "text/x-python",
   "name": "python",
   "nbconvert_exporter": "python",
   "pygments_lexer": "ipython3",
   "version": "3.11.6"
  }
 },
 "nbformat": 4,
 "nbformat_minor": 5
}
