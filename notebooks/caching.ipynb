{
 "cells": [
  {
   "cell_type": "code",
   "execution_count": 1,
   "id": "4f79add0-61c8-4847-9e70-65d743268a4e",
   "metadata": {},
   "outputs": [
    {
     "name": "stdout",
     "output_type": "stream",
     "text": [
      "/comstate.to3 | 3fbb9d27e681b4ac46fcf056aad08a1e | ('2024-04-29T15:55:58', 'comstate.to3', 200)\n",
      "/LOST.DIR/6388108 | 79276c63b9f32086e872eac6fa18b741 | ('1980-01-01T00:00:00', '6388108', 18415616)\n",
      "/LOST.DIR/6412004 | 38f77150be67d0a55129bfb7ceae1353 | ('1980-01-01T00:00:00', '6412004', 12288000)\n",
      "/LOST.DIR/6412379 | cb4761541e7cfd68de5caef2087bcca8 | ('1980-01-01T00:00:00', '6412379', 47742976)\n",
      "/.fseventsd/fseventsd-uuid | 4b1d61248b41eed8ec9508445fe9094f | ('2024-03-30T00:51:38', 'fseventsd-uuid', 36)\n",
      "/.fseventsd/0000000082b5db13 | 7231e409ab8e1dc2936097fc2294bf70 | ('2024-03-30T00:51:38', '0000000082b5db13', 110)\n",
      "/.fseventsd/0000000082b5db14 | 1c6d987817b74529887404b8e595951a | ('2024-03-30T00:51:38', '0000000082b5db14', 72)\n",
      "/DCIM/100EOSR7/1I1A2136.JPG | c6ff2624d6b74a6f924998ebee587d10 | ('2023-07-30T23:11:58', '1I1A2136.JPG', 7413150)\n",
      "/DCIM/100EOSR7/1I1A2136.CR3 | 841e3a3e50c7e6f151b7729875aae3e7 | ('2023-07-30T23:11:58', '1I1A2136.CR3', 32680282)\n",
      "/DCIM/100EOSR7/1I1A2139.JPG | 873ee7ab9a12b3d63121b9dcaa10119e | ('2023-08-10T15:44:08', '1I1A2139.JPG', 12623877)\n"
     ]
    }
   ],
   "source": [
    "!head -n10 hashes-r7-sd1.txt"
   ]
  },
  {
   "cell_type": "code",
   "execution_count": 2,
   "id": "819fa5d8-db0d-4925-8b7b-adb9c9c18593",
   "metadata": {},
   "outputs": [],
   "source": [
    "with open(\"cachefile\", \"w\") as cachefile:\n",
    "    lines = [line.strip() for line in open(\"hashes-r7-sd1.txt\", \"r\")]\n",
    "    for i, line in enumerate(lines):\n",
    "        try:\n",
    "            file_path, md5hash, primary_key_expr = line.split(\" | \")\n",
    "        except:\n",
    "            print(\"Exception at:\")\n",
    "            print(line)\n",
    "            continue\n",
    "        primary_key = eval(primary_key_expr)\n",
    "        key_date, key_filename, key_bytesize = primary_key\n",
    "        key_bytesize = str(key_bytesize)\n",
    "        \n",
    "        # debug output:\n",
    "        #print(f\"{file_path[:70]:70} {md5hash[:8]:8} || {key_date[:10]:10} {key_filename[:20]:20} {key_bytesize:15}\")\n",
    "        \n",
    "        # file format:\n",
    "        #       turn this path ......... into an mtime,   filename,       and bytesize ... 3-tuple\n",
    "        #print(f\"{file_path} | {md5hash} | {key_date} | {key_filename} | {key_bytesize}\")\n",
    "\n",
    "        # create cachefile\n",
    "        print(f\"{key_date} | {key_filename} | {key_bytesize} | {md5hash}\", file=cachefile)\n",
    "        #                     ^^^^^^^^^ if that 3-tuple exists in cachefile, use the pre-computed md5hash\n",
    "        #        ^^^^^^^^^ otherwise, apply the md5 algorithm against this filepath and add hash to cachefile\n",
    "        #if i > 1000:\n",
    "        #    break"
   ]
  },
  {
   "cell_type": "code",
   "execution_count": 3,
   "id": "e6f04a2f-fb47-4712-a439-469e2db4df4e",
   "metadata": {},
   "outputs": [
    {
     "name": "stdout",
     "output_type": "stream",
     "text": [
      "2024-04-29T15:55:58 | comstate.to3 | 200 | 3fbb9d27e681b4ac46fcf056aad08a1e\n",
      "1980-01-01T00:00:00 | 6388108 | 18415616 | 79276c63b9f32086e872eac6fa18b741\n",
      "1980-01-01T00:00:00 | 6412004 | 12288000 | 38f77150be67d0a55129bfb7ceae1353\n",
      "1980-01-01T00:00:00 | 6412379 | 47742976 | cb4761541e7cfd68de5caef2087bcca8\n",
      "2024-03-30T00:51:38 | fseventsd-uuid | 36 | 4b1d61248b41eed8ec9508445fe9094f\n",
      "2024-03-30T00:51:38 | 0000000082b5db13 | 110 | 7231e409ab8e1dc2936097fc2294bf70\n",
      "2024-03-30T00:51:38 | 0000000082b5db14 | 72 | 1c6d987817b74529887404b8e595951a\n",
      "2023-07-30T23:11:58 | 1I1A2136.JPG | 7413150 | c6ff2624d6b74a6f924998ebee587d10\n",
      "2023-07-30T23:11:58 | 1I1A2136.CR3 | 32680282 | 841e3a3e50c7e6f151b7729875aae3e7\n",
      "2023-08-10T15:44:08 | 1I1A2139.JPG | 12623877 | 873ee7ab9a12b3d63121b9dcaa10119e\n"
     ]
    }
   ],
   "source": [
    "!head -n10 cachefile"
   ]
  },
  {
   "cell_type": "code",
   "execution_count": null,
   "id": "0b78c35d-f49a-4c33-bbf6-c6bda1c9159e",
   "metadata": {},
   "outputs": [],
   "source": []
  }
 ],
 "metadata": {
  "kernelspec": {
   "display_name": "Python 3 (ipykernel)",
   "language": "python",
   "name": "python3"
  },
  "language_info": {
   "codemirror_mode": {
    "name": "ipython",
    "version": 3
   },
   "file_extension": ".py",
   "mimetype": "text/x-python",
   "name": "python",
   "nbconvert_exporter": "python",
   "pygments_lexer": "ipython3",
   "version": "3.11.6"
  }
 },
 "nbformat": 4,
 "nbformat_minor": 5
}
